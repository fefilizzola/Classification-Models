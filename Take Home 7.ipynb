{
 "cells": [
  {
   "cell_type": "markdown",
   "metadata": {},
   "source": [
    "# Take Home 7 - Deep Learning"
   ]
  },
  {
   "cell_type": "code",
   "execution_count": 133,
   "metadata": {},
   "outputs": [],
   "source": [
    "import pandas as pd\n",
    "import sklearn\n",
    "import scipy.io as sio\n",
    "import numpy as np\n",
    "from os import getcwd\n",
    "from os.path import join \n",
    "import matplotlib.pyplot as plt\n",
    "from sklearn import linear_model, decomposition, preprocessing,metrics, model_selection\n",
    "from sklearn.model_selection import train_test_split\n",
    "from sklearn.preprocessing import MinMaxScaler\n",
    "from sklearn.decomposition import PCA\n",
    "from sklearn.linear_model import LogisticRegression\n",
    "import statsmodels.api as sm\n",
    "from statsmodels.tsa.ar_model import AutoReg\n",
    "from statsmodels.tsa.stattools import adfuller\n",
    "from statsmodels.graphics.tsaplots import plot_pacf\n",
    "import statsmodels.api as sm\n",
    "from statsmodels.graphics import tsaplots\n",
    "import matplotlib.pyplot as plt\n",
    "from sklearn import metrics\n",
    "from mpl_toolkits.mplot3d import Axes3D\n",
    "from sklearn.cluster import KMeans\n",
    "import seaborn as sns\n",
    "from sklearn.metrics import confusion_matrix\n",
    "from sklearn import metrics\n",
    "import tensorflow as tf\n",
    "import tensorflow.keras as keras\n",
    "from tensorflow.keras import layers\n",
    "import numpy as np\n",
    "import matplotlib.pyplot as plt"
   ]
  },
  {
   "cell_type": "code",
   "execution_count": 134,
   "metadata": {},
   "outputs": [],
   "source": [
    "fname = join(os.getcwd(),'data','data3SS2009.mat')\n",
    "mat_contents = sio.loadmat(fname)\n",
    "dataset = mat_contents['dataset']\n",
    "N, Chno, Nc = dataset.shape\n",
    "# N: number of samples\n",
    "# Chno: number of channels\n",
    "# Nc: number of cases\n",
    "y = mat_contents['labels'].reshape(Nc)\n",
    "\n",
    "Ch1 = dataset[:,0,:] # célula de carga: força do shaker\n",
    "Ch2 = dataset[:,1,:] # acelerômetro: base\n",
    "Ch3 = dataset[:,2,:] # acelerômetro: 1o andar\n",
    "Ch4 = dataset[:,3,:] # acelerômetro: 2o andar\n",
    "Ch5 = dataset[:,4,:] # acelerômetro: 3o andar\n",
    "\n",
    "X1=[]\n",
    "for i in range(0,850): # a regressão é realizada para extrair características de cada experimento, por isto são realizadas a extração de características 850 vezes\n",
    "    pAR2 = AutoReg(Ch2[:,i], lags = 30).fit()\n",
    "    pAR3 = AutoReg(Ch3[:,i], lags = 30).fit()\n",
    "    pAR4 = AutoReg(Ch4[:,i], lags = 30).fit()\n",
    "    pAR5 = AutoReg(Ch5[:,i], lags = 30).fit()\n",
    "    result=np.concatenate([pAR2.params,pAR3.params,pAR4.params,pAR5.params])\n",
    "    X1.append(result)\n",
    "\n",
    "pca = PCA().fit(X1)\n",
    "pca = decomposition.PCA(n_components=0.97) #variancia explicada 97%\n",
    "X2 = pca.fit_transform(X1)\n",
    "Nc,PCAcomp=X2.shape \n",
    "\n",
    "scaler = MinMaxScaler(feature_range=(-1,1))\n",
    "X=scaler.fit_transform(X2)\n",
    "\n",
    "indDam = y>9\n",
    "df=pd.concat([pd.DataFrame(X),pd.DataFrame({'label':indDam})],axis=1)\n",
    "#df=df.replace(False,0)\n",
    "#df=df.replace(True,1)\n",
    "\n"
   ]
  },
  {
   "cell_type": "code",
   "execution_count": 135,
   "metadata": {},
   "outputs": [
    {
     "name": "stdout",
     "output_type": "stream",
     "text": [
      "x_train shape: (510, 7, 1)\n",
      "y_train shape: (510,)\n",
      "510 train samples\n",
      "340 test samples\n"
     ]
    }
   ],
   "source": [
    "x_train,x_test,y_train,y_test=train_test_split(X,y,test_size=0.4,random_state=i)\n",
    "# Model / data parameters\n",
    "num_classes = 18\n",
    "input_shape = (28, 28, 1)\n",
    "\n",
    "# Make sure images have shape (28, 28, 1)\n",
    "x_train = np.expand_dims(x_train, -1)\n",
    "x_test = np.expand_dims(x_test, -1)\n",
    "print(\"x_train shape:\", x_train.shape)\n",
    "print(\"y_train shape:\", y_train.shape)\n",
    "print(x_train.shape[0], \"train samples\")\n",
    "print(x_test.shape[0], \"test samples\")\n",
    "\n",
    "\n",
    "# convert class vectors to binary class matrices\n",
    "y_train = keras.utils.to_categorical(y_train, num_classes)\n",
    "y_test = keras.utils.to_categorical(y_test, num_classes)"
   ]
  },
  {
   "cell_type": "code",
   "execution_count": 147,
   "metadata": {},
   "outputs": [
    {
     "name": "stdout",
     "output_type": "stream",
     "text": [
      "Model: \"sequential_46\"\n",
      "_________________________________________________________________\n",
      " Layer (type)                Output Shape              Param #   \n",
      "=================================================================\n",
      " flatten_47 (Flatten)        (None, 7)                 0         \n",
      "                                                                 \n",
      " dense_89 (Dense)            (None, 60)                480       \n",
      "                                                                 \n",
      " dense_90 (Dense)            (None, 18)                1098      \n",
      "                                                                 \n",
      "=================================================================\n",
      "Total params: 1,578\n",
      "Trainable params: 1,578\n",
      "Non-trainable params: 0\n",
      "_________________________________________________________________\n",
      "Epoch 1/6\n",
      "13/15 [=========================>....] - ETA: 0s - loss: 2.8027 - accuracy: 0.0529"
     ]
    },
    {
     "name": "stderr",
     "output_type": "stream",
     "text": [
      "2022-05-22 10:12:51.589434: I tensorflow/core/grappler/optimizers/custom_graph_optimizer_registry.cc:113] Plugin optimizer for device_type GPU is enabled.\n"
     ]
    },
    {
     "name": "stdout",
     "output_type": "stream",
     "text": [
      "15/15 [==============================] - 0s 18ms/step - loss: 2.7966 - accuracy: 0.0675 - val_loss: 2.7265 - val_accuracy: 0.1569\n",
      "Epoch 2/6\n",
      "15/15 [==============================] - 0s 9ms/step - loss: 2.6911 - accuracy: 0.2810 - val_loss: 2.6396 - val_accuracy: 0.4706\n"
     ]
    },
    {
     "name": "stderr",
     "output_type": "stream",
     "text": [
      "2022-05-22 10:12:51.866033: I tensorflow/core/grappler/optimizers/custom_graph_optimizer_registry.cc:113] Plugin optimizer for device_type GPU is enabled.\n"
     ]
    },
    {
     "name": "stdout",
     "output_type": "stream",
     "text": [
      "Epoch 3/6\n",
      "15/15 [==============================] - 0s 9ms/step - loss: 2.5872 - accuracy: 0.5098 - val_loss: 2.5506 - val_accuracy: 0.5686\n",
      "Epoch 4/6\n",
      "15/15 [==============================] - 0s 10ms/step - loss: 2.4804 - accuracy: 0.6427 - val_loss: 2.4539 - val_accuracy: 0.6471\n",
      "Epoch 5/6\n",
      "15/15 [==============================] - 0s 11ms/step - loss: 2.3647 - accuracy: 0.7124 - val_loss: 2.3500 - val_accuracy: 0.6667\n",
      "Epoch 6/6\n",
      "15/15 [==============================] - 0s 9ms/step - loss: 2.2413 - accuracy: 0.7298 - val_loss: 2.2375 - val_accuracy: 0.6667\n",
      "11/11 [==============================] - 0s 8ms/step - loss: 2.1910 - accuracy: 0.7059\n",
      "Test loss: 2.1909611225128174\n",
      "Test accuracy: 0.7058823704719543\n",
      "11/11 [==============================] - 0s 10ms/step\n",
      "(340, 18)\n"
     ]
    },
    {
     "name": "stderr",
     "output_type": "stream",
     "text": [
      "2022-05-22 10:12:52.795097: I tensorflow/core/grappler/optimizers/custom_graph_optimizer_registry.cc:113] Plugin optimizer for device_type GPU is enabled.\n"
     ]
    },
    {
     "data": {
      "image/png": "[encoded data removed]",
      "text/plain": [
       "<Figure size 432x288 with 2 Axes>"
      ]
     },
     "metadata": {
      "needs_background": "light"
     },
     "output_type": "display_data"
    }
   ],
   "source": [
    "model = keras.Sequential([\n",
    "  layers.Flatten(input_shape=(7,1)),\n",
    "  layers.Dense(60, activation='relu'),\n",
    "  layers.Dense(18, activation=\"softmax\")\n",
    "])\n",
    "model.summary()\n",
    "model.compile(\n",
    "    optimizer=tf.keras.optimizers.Adam(0.001),\n",
    "    loss=\"categorical_crossentropy\",\n",
    "    metrics=[\"accuracy\"],\n",
    ")\n",
    "\n",
    "model.fit(\n",
    "    x_train, \n",
    "    y_train,\n",
    "    epochs=6,\n",
    "    validation_split=0.1,\n",
    ")\n",
    "\n",
    "score = model.evaluate(x_test, y_test, verbose=1)\n",
    "print(\"Test loss:\", score[0])\n",
    "print(\"Test accuracy:\", score[1])\n",
    "\n",
    "yh_test = model.predict(x_test)\n",
    "print(y_test.shape)\n",
    "# convert from probability to classes\n",
    "y_test  = np.argmax(y_test, 1)\n",
    "yh_test = np.argmax(yh_test, 1)\n",
    "import matplotlib.pyplot as plt\n",
    "from sklearn.metrics import ConfusionMatrixDisplay\n",
    "\n",
    "CM = confusion_matrix(y_test,yh_test)\n",
    "ConfusionMatrixDisplay.from_predictions(y_test, yh_test)\n",
    "\n",
    "plt.show()"
   ]
  }
 ],
 "metadata": {
  "interpreter": {
   "hash": "fcfdf0b1533fe1f22d2322fd23af005881bce7ec47ac9289ddab3a24b5059cd8"
  },
  "kernelspec": {
   "display_name": "Python 3.9.10 ('base')",
   "language": "python",
   "name": "python3"
  },
  "language_info": {
   "codemirror_mode": {
    "name": "ipython",
    "version": 3
   },
   "file_extension": ".py",
   "mimetype": "text/x-python",
   "name": "python",
   "nbconvert_exporter": "python",
   "pygments_lexer": "ipython3",
   "version": "3.9.10"
  },
  "orig_nbformat": 4
 },
 "nbformat": 4,
 "nbformat_minor": 2
}
